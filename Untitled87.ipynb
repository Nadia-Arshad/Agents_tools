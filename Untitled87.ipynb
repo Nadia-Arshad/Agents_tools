{
  "nbformat": 4,
  "nbformat_minor": 0,
  "metadata": {
    "colab": {
      "provenance": [],
      "authorship_tag": "ABX9TyOcrxY8L+Em53TkcUfqwNyL",
      "include_colab_link": true
    },
    "kernelspec": {
      "name": "python3",
      "display_name": "Python 3"
    },
    "language_info": {
      "name": "python"
    }
  },
  "cells": [
    {
      "cell_type": "markdown",
      "metadata": {
        "id": "view-in-github",
        "colab_type": "text"
      },
      "source": [
        "<a href=\"https://colab.research.google.com/github/Nadia-Arshad/Agents_tools/blob/main/Untitled87.ipynb\" target=\"_parent\"><img src=\"https://colab.research.google.com/assets/colab-badge.svg\" alt=\"Open In Colab\"/></a>"
      ]
    },
    {
      "cell_type": "code",
      "execution_count": null,
      "metadata": {
        "colab": {
          "base_uri": "https://localhost:8080/"
        },
        "id": "_5En7MNLbEi2",
        "outputId": "f5a55b3b-547b-4326-c2ef-ba7ab42450b4"
      },
      "outputs": [
        {
          "output_type": "stream",
          "name": "stdout",
          "text": [
            "['veges', 'fruits']\n"
          ]
        }
      ],
      "source": [
        "healthy = [\"curry\", \"fruits\", \"veges\", \"meat\"]\n",
        "backpack = [\"pizza\", \"chips\", \"drinks\", \"veges\", \"fruits\"]\n",
        "\n",
        "backpack = [item for item in backpack if item in healthy]\n",
        "\n",
        "print(backpack)"
      ]
    },
    {
      "cell_type": "code",
      "source": [
        "original_list = [1, 2, [3, 4]]\n",
        "new_list = original_list\n",
        "\n",
        "print(id(original_list))\n",
        "print(id(new_list))\n",
        "\n",
        "\n",
        "original_list = [1, 2, [3, 4]]\n",
        "new_list = original_list[:]\n",
        "\n",
        "print(id(original_list))\n",
        "print(id(new_list))"
      ],
      "metadata": {
        "colab": {
          "base_uri": "https://localhost:8080/"
        },
        "id": "mN9X3yl4bril",
        "outputId": "7b53c35e-81e4-47ca-c8ef-b90168efe36d"
      },
      "execution_count": null,
      "outputs": [
        {
          "output_type": "stream",
          "name": "stdout",
          "text": [
            "140411026056832\n",
            "140411026056832\n",
            "140412213199232\n",
            "140411319938368\n"
          ]
        }
      ]
    },
    {
      "cell_type": "code",
      "source": [
        "# Modify the new list (top-level change)\n",
        "new_list[0] = 10\n",
        "print(f\"\\nAfter modifying new_list[0]:\")\n",
        "print(f\"Original list: {original_list}\")  # Unchanged\n",
        "print(f\"New list: {new_list}\")\n",
        "\n"
      ],
      "metadata": {
        "colab": {
          "base_uri": "https://localhost:8080/"
        },
        "id": "EhOP6dGVdJ7F",
        "outputId": "50d7b65e-228f-4b83-e7b5-d28f61d4c7b1"
      },
      "execution_count": null,
      "outputs": [
        {
          "output_type": "stream",
          "name": "stdout",
          "text": [
            "\n",
            "After modifying new_list[0]:\n",
            "Original list: [1, 2, [3, 4]]\n",
            "New list: [10, 2, [3, 4]]\n"
          ]
        }
      ]
    },
    {
      "cell_type": "code",
      "source": [
        "# Modify a mutable element within the lists (nested change)\n",
        "new_list[2][0] = 30\n",
        "print(f\"\\nAfter modifying new_list[2][0]:\")\n",
        "print(f\"Original list: {original_list}\")  # Changed!\n",
        "print(f\"New list: {new_list}\")"
      ],
      "metadata": {
        "colab": {
          "base_uri": "https://localhost:8080/"
        },
        "id": "kX6rkhXCdL1f",
        "outputId": "81c28317-3b0e-4150-d176-392f44b8542e"
      },
      "execution_count": null,
      "outputs": [
        {
          "output_type": "stream",
          "name": "stdout",
          "text": [
            "\n",
            "After modifying new_list[2][0]:\n",
            "Original list: [1, 2, [30, 4]]\n",
            "New list: [10, 2, [30, 4]]\n"
          ]
        }
      ]
    },
    {
      "cell_type": "code",
      "source": [
        "greetings = [\"hi\", \"hello\", \"hola\", \"salam\"]\n",
        "for i in range(len(greetings)):\n",
        "  print(i, greetings[0])"
      ],
      "metadata": {
        "colab": {
          "base_uri": "https://localhost:8080/"
        },
        "id": "-6dKo7BHeI09",
        "outputId": "73b746d9-d570-4299-97af-d35df03e261c"
      },
      "execution_count": null,
      "outputs": [
        {
          "output_type": "stream",
          "name": "stdout",
          "text": [
            "0 hi\n",
            "1 hi\n",
            "2 hi\n",
            "3 hi\n"
          ]
        }
      ]
    },
    {
      "cell_type": "code",
      "source": [],
      "metadata": {
        "id": "AGWyfu4QlrHB"
      },
      "execution_count": null,
      "outputs": []
    },
    {
      "cell_type": "code",
      "source": [],
      "metadata": {
        "id": "40A90nBvMJCD"
      },
      "execution_count": null,
      "outputs": []
    },
    {
      "cell_type": "code",
      "source": [],
      "metadata": {
        "id": "vf8y53zHMJGf"
      },
      "execution_count": null,
      "outputs": []
    },
    {
      "cell_type": "code",
      "source": [],
      "metadata": {
        "id": "Pvfbq2njMJI1"
      },
      "execution_count": null,
      "outputs": []
    },
    {
      "cell_type": "code",
      "source": [],
      "metadata": {
        "id": "PF4_NZCTMJLi"
      },
      "execution_count": null,
      "outputs": []
    },
    {
      "cell_type": "code",
      "source": [
        "INPUT Age\n",
        "IF Age < 18 THEN\n",
        "    OUTPUT \"Child\"\n",
        "ELSE\n",
        "    OUTPUT \"Adult\"\n",
        "END IF"
      ],
      "metadata": {
        "colab": {
          "base_uri": "https://localhost:8080/",
          "height": 106
        },
        "id": "JmIk_8i2MJO_",
        "outputId": "8f6583f3-e41f-417f-8c02-5cf6459be4df"
      },
      "execution_count": null,
      "outputs": [
        {
          "output_type": "error",
          "ename": "SyntaxError",
          "evalue": "invalid syntax (<ipython-input-7-b42a7f4631f4>, line 1)",
          "traceback": [
            "\u001b[0;36m  File \u001b[0;32m\"<ipython-input-7-b42a7f4631f4>\"\u001b[0;36m, line \u001b[0;32m1\u001b[0m\n\u001b[0;31m    INPUT Age\u001b[0m\n\u001b[0m          ^\u001b[0m\n\u001b[0;31mSyntaxError\u001b[0m\u001b[0;31m:\u001b[0m invalid syntax\n"
          ]
        }
      ]
    },
    {
      "cell_type": "code",
      "source": [],
      "metadata": {
        "id": "sGYFdU09PsmY"
      },
      "execution_count": null,
      "outputs": []
    }
  ]
}